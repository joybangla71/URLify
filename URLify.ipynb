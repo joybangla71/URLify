{
  "nbformat": 4,
  "nbformat_minor": 0,
  "metadata": {
    "colab": {
      "name": "URLify.ipynb",
      "provenance": []
    },
    "kernelspec": {
      "name": "python3",
      "display_name": "Python 3"
    },
    "language_info": {
      "name": "python"
    }
  },
  "cells": [
    {
      "cell_type": "markdown",
      "source": [
        "# URLify a given string\n",
        "\n",
        "**Problem statement:** This is Probelm #1.3 in the CtCI book by G. McDowell. We are required to write a method that takes a string and a length (integer) value as inputs and outputs a string where the spaces are replaced by %20. For example:\n",
        "\n",
        "**input:** \"Mr. John Doe       \", 12\n",
        "\n",
        "**output:** \"Mr.%20John%20Doe\"\n",
        "\n",
        "**Solution:** There are two ways to solve this problem to my knowledge. Let's discuss and walk through them one by one.\n",
        "\n",
        "**Aproach #1:** The two pointer method"
      ],
      "metadata": {
        "id": "vEPoxi2bosRP"
      }
    },
    {
      "cell_type": "code",
      "source": [
        "def urlify_two_pointer(string, length):\n",
        "  \"\"\"this function replaces spaces with %20\"\"\"\n",
        "  # strings in python are immutable and so we need a mutable object like a list\n",
        "  char_list = list(string)\n",
        "\n",
        "  # our first pointer which moves faster when a space is found\n",
        "  new_idx = len(char_list)\n",
        "\n",
        "  for i in reversed(range(length)): # i is our second pointer that moves monotonically by -1\n",
        "    if char_list[i] == \" \":\n",
        "      # space found, replace it with %20\n",
        "      char_list[new_idx - 3 : new_idx] = \"%20\"\n",
        "      new_idx -= 3\n",
        "    else:\n",
        "      # no space found, move on to the previous character\n",
        "      char_list[new_idx - 1] = char_list[i]\n",
        "      new_idx -= 1\n",
        "  return \"\".join(char_list[new_idx:]) # use the join method to return the desired output"
      ],
      "metadata": {
        "id": "nxkmDn7Pqarv"
      },
      "execution_count": 10,
      "outputs": []
    },
    {
      "cell_type": "markdown",
      "source": [
        "**Approach #2:** Pythonic solution using the replace method"
      ],
      "metadata": {
        "id": "q89PSou7sTxl"
      }
    },
    {
      "cell_type": "code",
      "source": [
        "def urlify_pythonic(string, length):\n",
        "    \"\"\"solution using standard library\"\"\"\n",
        "    return string[:length].replace(\" \", \"%20\")"
      ],
      "metadata": {
        "id": "UdETU4g8seaB"
      },
      "execution_count": 11,
      "outputs": []
    },
    {
      "cell_type": "markdown",
      "source": [
        "Now we will test these two function on a few test cases and compare their runtimes. To do that, we will import the unittest library and create few strings of our choices."
      ],
      "metadata": {
        "id": "re46BBb0stk8"
      }
    },
    {
      "cell_type": "code",
      "source": [
        "import unittest\n",
        "import time\n",
        "from collections import defaultdict\n",
        "\n",
        "class Test(unittest.TestCase):\n",
        "    \"\"\"Test Cases\"\"\"\n",
        "\n",
        "    test_cases = {\n",
        "        (\"much ado about nothing      \", 22): \"much%20ado%20about%20nothing\",\n",
        "        (\"Mr John Smith       \", 13): \"Mr%20John%20Smith\",\n",
        "        (\" a b    \", 4): \"%20a%20b\",\n",
        "        (\" a b       \", 5): \"%20a%20b%20\",\n",
        "    }\n",
        "    testable_functions = [urlify_two_pointer, urlify_pythonic]\n",
        "\n",
        "    def test_urlify(self):\n",
        "      num_runs = 1000\n",
        "      function_runtimes = defaultdict(float)\n",
        "      for _ in range(num_runs):\n",
        "        for urlify in self.testable_functions:\n",
        "            for args, expected in self.test_cases.items():\n",
        "                start = time.perf_counter()\n",
        "                actual = urlify(*args)\n",
        "                assert actual == expected, f\"Failed {urlify.__name__} for: {[*args]}\"\n",
        "                function_runtimes[urlify.__name__] += (\n",
        "                          time.perf_counter() - start\n",
        "                      ) * 1000\n",
        "      print(f\"\\n{num_runs} runs\")\n",
        "      for function_name, runtime in function_runtimes.items():\n",
        "          print(f\"{function_name}: {runtime:.1f}ms\")\n",
        "\n",
        "\n",
        "\n",
        "if __name__ == \"__main__\":\n",
        "  unittest.main(argv=['first-arg-is-ignored'], exit=False)"
      ],
      "metadata": {
        "colab": {
          "base_uri": "https://localhost:8080/"
        },
        "id": "ieJFoTQxs_h9",
        "outputId": "9684276d-b63d-410c-9664-764ba7e53aa8"
      },
      "execution_count": 12,
      "outputs": [
        {
          "output_type": "stream",
          "name": "stderr",
          "text": [
            "."
          ]
        },
        {
          "output_type": "stream",
          "name": "stdout",
          "text": [
            "\n",
            "1000 runs\n",
            "urlify_two_pointer: 17.0ms\n",
            "urlify_pythonic: 2.8ms\n"
          ]
        },
        {
          "output_type": "stream",
          "name": "stderr",
          "text": [
            "\n",
            "----------------------------------------------------------------------\n",
            "Ran 1 test in 0.029s\n",
            "\n",
            "OK\n"
          ]
        }
      ]
    },
    {
      "cell_type": "markdown",
      "source": [
        "As we can see, the pythonic solution is much faster than the two pointer method. It is good practice to remember and use both. "
      ],
      "metadata": {
        "id": "5oM-e6WDvYAt"
      }
    },
    {
      "cell_type": "code",
      "source": [
        ""
      ],
      "metadata": {
        "id": "Q47sDW7Sv-Vt"
      },
      "execution_count": null,
      "outputs": []
    }
  ]
}